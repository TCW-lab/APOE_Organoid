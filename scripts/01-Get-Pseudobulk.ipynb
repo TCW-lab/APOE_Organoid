{
 "cells": [
  {
   "cell_type": "code",
   "execution_count": 4,
   "id": "8eac6244",
   "metadata": {},
   "outputs": [
    {
     "ename": "SyntaxError",
     "evalue": "positional argument follows keyword argument (446632235.py, line 9)",
     "output_type": "error",
     "traceback": [
      "\u001b[0;36m  Cell \u001b[0;32mIn[4], line 9\u001b[0;36m\u001b[0m\n\u001b[0;31m    return.seurat = FALSE)\u001b[0m\n\u001b[0m    ^\u001b[0m\n\u001b[0;31mSyntaxError\u001b[0m\u001b[0;31m:\u001b[0m positional argument follows keyword argument\n"
     ]
    }
   ],
   "source": [
    "#### 04-09-2024 This is adapted from Alexandre Pelletier's SEAAD_pseudobulk.ipynb notebook\n",
    "# Following Alexandre's SEAAD_pseudobulk script\n",
    "\n",
    "library(Seurat)\n",
    "library(data.table)\n",
    "fp<-function(...)file.path(...) # what A.P. is doing here is defining a function fp\n",
    "# which is a wrapper for the file.path(...) function\n",
    "\n"
   ]
  },
  {
   "cell_type": "code",
   "execution_count": null,
   "id": "6751d0df",
   "metadata": {},
   "outputs": [],
   "source": [
    "# Note: this section is largely based on https://satijalab.org/seurat/articles/de_vignette\n",
    "\n",
    "#to match with the rds object name, we create a list containing the original cell type name \n",
    "cellTypes <- c('Glutamatergic', 'GABAergic', 'Glutamatergic', 'Astrocyte', 'OPC', \n",
    "               'Epithelial', 'NPCs', 'VLMC', 'unknown')\n",
    "\n",
    "# dir w cellTypes .rds files\n",
    "inputDir <- './outputs/01-Get-Pseudobulk/Seurat/'\n",
    "outputDir <- './outputs/01-Get-Pseudobulk/'\n",
    "\n",
    "# for each cell type\n",
    "for(cellType in cellTypes) {\n",
    "    # Seurat file for the current cell type\n",
    "    seuratPath <- fp(dir, paste0(cellType, '.rds'))\n",
    "    \n",
    "    # read Seurat file\n",
    "    seuratObject <- readRDS(seuratPath)\n",
    "    \n",
    "    # aggregate expression per genotype\n",
    "    pseudo_matrix <- AggregateExpression(seuratObject, assays = 'SoupX_counts', \n",
    "                                      group.by = 'genotype', return.seurat = FALSE)\n",
    "    \n",
    "    # output to csv\n",
    "    output <- fp(baseDir, paste0(cellType, '_pseudobulk.csv.gz'))\n",
    "    fwrite(data.table(pseudo_matrix$SoupX_counts, keep.rownames = 'gene_name'), output)\n",
    "}\n"
   ]
  },
  {
   "cell_type": "code",
   "execution_count": null,
   "id": "c09cfef2",
   "metadata": {},
   "outputs": [],
   "source": []
  }
 ],
 "metadata": {
  "kernelspec": {
   "display_name": "Python 3 (ipykernel)",
   "language": "python",
   "name": "python3"
  },
  "language_info": {
   "codemirror_mode": {
    "name": "ipython",
    "version": 3
   },
   "file_extension": ".py",
   "mimetype": "text/x-python",
   "name": "python",
   "nbconvert_exporter": "python",
   "pygments_lexer": "ipython3",
   "version": "3.10.12"
  }
 },
 "nbformat": 4,
 "nbformat_minor": 5
}
