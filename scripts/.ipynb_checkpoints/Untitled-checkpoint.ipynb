{
 "cells": [
  {
   "cell_type": "code",
   "execution_count": null,
   "id": "0b689a9b",
   "metadata": {},
   "outputs": [],
   "source": [
    "# Following Alexandre's SEAAD_pseudobulk script\n",
    "\n",
    "library(Seurat)\n",
    "library(data.table)\n",
    "fp<-function(...)file.path(...)\n",
    "\n",
    "VLMC<-readRDS('../outputs/pseudobulk/VLMC.rds')\n",
    "pseudo_mat<-AggregateExpression(VLMC,assays = 'RNA',slot = 'count',group.by = '',\n",
    "                    return.seurat = FALSE)\n",
    "fwrite(data.table(pseudo_mat$RNA,keep.rownames = 'gene_id'),'outputs/pseudobulk/VLMC_pseudobulk.csv.gz')\n"
   ]
  }
 ],
 "metadata": {
  "kernelspec": {
   "display_name": "Python 3 (ipykernel)",
   "language": "python",
   "name": "python3"
  },
  "language_info": {
   "codemirror_mode": {
    "name": "ipython",
    "version": 3
   },
   "file_extension": ".py",
   "mimetype": "text/x-python",
   "name": "python",
   "nbconvert_exporter": "python",
   "pygments_lexer": "ipython3",
   "version": "3.10.12"
  }
 },
 "nbformat": 4,
 "nbformat_minor": 5
}
