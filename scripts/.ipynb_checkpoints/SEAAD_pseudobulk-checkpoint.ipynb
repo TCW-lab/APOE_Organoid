{
 "cells": [
  {
   "cell_type": "markdown",
   "id": "a662941e-e57a-49a2-b175-0da8dadd952d",
   "metadata": {
    "kernel": "Markdown",
    "tags": []
   },
   "source": [
    "# Create the per cell type pseudobulk matrix"
   ]
  },
  {
   "cell_type": "markdown",
   "id": "75df6f9b-082b-4487-b00e-3892ca7e9998",
   "metadata": {
    "kernel": "Markdown",
    "tags": []
   },
   "source": [
    "We create a pseudobulk matrix (aggregates cell counts by sample) for each `cell_type`, and for each `main_cell_type`\n",
    "As a minimal working example (MWE), it is perform like that for each cell type: "
   ]
  },
  {
   "cell_type": "code",
   "execution_count": null,
   "id": "e4ee024b-704b-49fe-a9e5-a37765380abd",
   "metadata": {
    "kernel": "Markdown"
   },
   "outputs": [],
   "source": [
    "library(Seurat)\n",
    "library(data.table)\n",
    "fp<-function(...)file.path(...)\n",
    "\n",
    "astro<-readRDS('../outputs/01-SEAAD_data/DLPFC/Astrocyte.rds')\n",
    "pseudo_mat<-AggregateExpression(astro,assays = 'RNA',slot = 'count',group.by = 'Donor.ID',\n",
    "                    return.seurat = FALSE)\n",
    "fwrite(data.table(pseudo_mat$RNA,keep.rownames = 'gene_id'),'outputs/01-SEAAD_data/DLPFC/Astrocyte_pseudobulk.csv.gz')\n",
    "\n"
   ]
  },
  {
   "cell_type": "markdown",
   "id": "d363d288-032c-48be-acbf-d613706dce4a",
   "metadata": {
    "kernel": "Markdown",
    "tags": []
   },
   "source": [
    "The script for all cell type and brain region are in ['scripts/01Dii-create_pseudobulk_cell_type.R']('../scripts/01Dii-create_pseudobulk_cell_type.R')"
   ]
  },
  {
   "cell_type": "markdown",
   "id": "1747eb69-dc0a-425a-95e8-0ae0f50eb022",
   "metadata": {
    "kernel": "Markdown",
    "tags": []
   },
   "source": [
    "### merge the splitted cell type into one pseudobulk data\n",
    "for the cell type divided into different object/rds file(because too large data),we aggregate expression into one.  \n",
    "we thus create a data.table `pseudo_files_dt` saving these information"
   ]
  },
  {
   "cell_type": "code",
   "execution_count": null,
   "id": "b8f26f79-1b86-44c6-b873-6af4a6801319",
   "metadata": {
    "kernel": "R",
    "tags": []
   },
   "outputs": [],
   "source": [
    "region='DLPFC'\n",
    "out1<-fp(out,region)\n",
    "mtd<-fread(fp(out1,'all_final_RNAseq_nuclei_metadata.csv.gz'))\n",
    "\n",
    "#to match with the rds object name, we create a column containing the original cell type name \n",
    "mtd[,original_cell_type_name:=str_remove(str_replace_all(cell_type,' ','_'),'^Inh_|Exc_')]\n",
    "mtd[,original_cell_type_name:=str_replace_all(original_cell_type_name,'/','-')]\n",
    "fwrite(mtd,fp(out1,'all_final_RNAseq_nuclei_metadata.csv.gz')) \n",
    "  \n",
    "mtsc<-unique(mtd,by=c('Donor.ID','cell_type'))\n",
    "  \n",
    "pseudo_files<-list.files(out1,pattern = '\\\\_pseudobulk\\\\.csv\\\\.gz',full.names = T)\n",
    "pseudo_files_dt<-data.table(file=pseudo_files,\n",
    "                              original_cell_type_name=str_remove(basename(pseudo_files),'_pseudobulk\\\\.csv\\\\.gz'))\n",
    "pseudo_files_dt[,original_cell_type_name:=str_remove(original_cell_type_name,'\\\\_set[0-9]+')]\n",
    "  \n",
    "  \n",
    "pseudo_files_dt<-merge(pseudo_files_dt,unique(mtsc[,.(original_cell_type_name,cell_type,main_cell_type)]))\n",
    "pseudo_files_dt[,n_file:=.N,by='cell_type']\n",
    "  \n",
    "for(ct in unique(pseudo_files_dt[n_file>1]$original_cell_type_name)){\n",
    "    pseudo_list<-lapply(pseudo_files_dt[original_cell_type_name==ct]$file, function(f)fread(f))\n",
    "    \n",
    "    #lacking samples column\n",
    "    samples<-Reduce(union,lapply(pseudo_list,colnames))\n",
    "    pseudo_list<-lapply(pseudo_list,function(x){\n",
    "      samples_lacking<-setdiff(samples,colnames(x))\n",
    "      x[,(samples_lacking):=0]\n",
    "    })\n",
    "    \n",
    "    #transform as matrix\n",
    "    pseudo_list<-lapply(pseudo_list, function(x)as.matrix(data.frame(x,row.names = 'gene_id')))\n",
    "    \n",
    "    #aggregate count by sample / featute\n",
    "    features<-rownames(pseudo_list[[1]])\n",
    "    samples<-colnames(pseudo_list[[1]])\n",
    "    \n",
    "    pseudo_merge<-Reduce(`+`,lapply(pseudo_list,function(x)x[features,samples]))\n",
    "    print(head(pseudo_merge[,1:10]))\n",
    "    fwrite(data.table(pseudo_merge,keep.rownames = 'gene_id'),fp(out1,paste0(ct,'pseudobulk.csv.gz')))\n",
    "    \n",
    "  }\n",
    "                                    \n",
    "  \n",
    "#we do not need anymore of the pseudobulk data from the divided cell type objects, so we remove them\n",
    "system(paste('rm',paste(pseudo_files_dt[n_file>1]$file,collapse = ' ')))\n",
    "  \n",
    "  "
   ]
  },
  {
   "cell_type": "markdown",
   "id": "8b55aeea-96b8-4b8f-917a-c69731628428",
   "metadata": {
    "kernel": "Markdown",
    "tags": []
   },
   "source": [
    "###  Create metadata for each pseudobulk \n",
    "In addition to the clinical covariates, we also store in each pseudobulk metadata different QC metrics like the proportion of this cell type in the sample, the median UMIs count and median gene detectedm as well as average %mitochondrial count that we could used as covariated in our pseudobulk analysis.  \n",
    "Importantly, we also flag here samples with **less than 50 cells** for this cell type, This is a flag that we will use to exclude samples with not enough cells before run differential expression analysis."
   ]
  },
  {
   "cell_type": "code",
   "execution_count": null,
   "id": "b83ba2f5-cd35-4c62-8493-a7696a7cde2e",
   "metadata": {
    "kernel": "R"
   },
   "outputs": [],
   "source": [
    "#save diverse cell type level info \n",
    "mtd[,tot.cells.donor:=.N,by=.(`Donor.ID`)]\n",
    "mtd[,n.cells:=.N,by=.(`Donor.ID`,cell_type)]\n",
    "\n",
    "mtd[,prop.cells:=n.cells/tot.cells.donor,by=.(`Donor.ID`,cell_type)]\n",
    "mtd[,med.umis.per.cell:=median(Number.of.UMIs,na.rm = T),by=.(`Donor.ID`,cell_type)]\n",
    "mtd[,med.genes.per.cell:=median(Genes.detected,na.rm = T),by=.(`Donor.ID`,cell_type)]\n",
    "mtd[,avg.pct.mt.per.cell:=mean(`Fraction.mitochondrial.UMIs`),by=c('Donor.ID','cell_type')]\n",
    "mtsc<-unique(mtd,by=c('Donor.ID','cell_type'))\n",
    "  \n",
    "#flag donors with not enough cells\n",
    "mtd[,pass.threshold.n.cells:=n.cells>50]\n",
    "mtd[,outlier.n.cells:=!pass.threshold.n.cells,by=c('Donor.ID','cell_type')]\n",
    "  \n",
    "mtscf<-RemoveUselessColumns(mtsc,key_cols=c('Donor.ID','cell_type'),pattern_to_exclude = 'ATAC|Multiome|Doublet|Number.of|Genes.')\n",
    "  \n",
    "fwrite(mtscf,fp(out1,'all_final_RNAseq_nuclei_cell_type_level_metadata.csv.gz'))\n"
   ]
  },
  {
   "cell_type": "markdown",
   "id": "8049be24-7c3f-441f-b998-65fb6209165b",
   "metadata": {
    "kernel": "Markdown",
    "tags": []
   },
   "source": [
    "## Pseudobulk by Main Cell type<a class=\"anchor\" id=\"7\"></a>\n",
    "We then aggregated the pseudobulk matrix of each cell type belonging to the same lower resolution cell type annoation (called `main_cell_type` in metadata). e.g, we sum counts for all Excitatory neurons type together.\n",
    "  \n",
    "We also create the metadata associated to it  similarly than for the more resolutive level.\n"
   ]
  },
  {
   "cell_type": "code",
   "execution_count": 1,
   "id": "aae1809d-fb83-4edb-8b71-73aa3aa6e8e2",
   "metadata": {
    "kernel": "R",
    "tags": []
   },
   "outputs": [
    {
     "ename": "SyntaxError",
     "evalue": "expression cannot contain assignment, perhaps you meant \"==\"? (1416116873.py, line 4)",
     "output_type": "error",
     "traceback": [
      "\u001b[0;36m  Cell \u001b[0;32mIn[1], line 4\u001b[0;36m\u001b[0m\n\u001b[0;31m    pseudo_files<-list.files(out1,pattern = '\\\\_pseudobulk\\\\.csv\\\\.gz',full.names = T)\u001b[0m\n\u001b[0m                                                                       ^\u001b[0m\n\u001b[0;31mSyntaxError\u001b[0m\u001b[0;31m:\u001b[0m expression cannot contain assignment, perhaps you meant \"==\"?\n"
     ]
    }
   ],
   "source": [
    "# merge by main_cell_type\n",
    "out2<-fp(out1,'pseudobulk_main_cell_type')\n",
    "dir.create(out2)\n",
    "pseudo_files<-list.files(out1,pattern = '\\\\_pseudobulk\\\\.csv\\\\.gz',full.names = T)\n",
    "to_merge<-data.table(file=pseudo_files,\n",
    "                       original_cell_type_name=str_remove(basename(pseudo_files),'_pseudobulk\\\\.csv\\\\.gz'))\n",
    "  \n",
    "  \n",
    "to_merge<-merge(to_merge,unique(mtsc[,.(original_cell_type_name,cell_type,main_cell_type)]))\n",
    "  \n",
    "for(ct in unique(to_merge$main_cell_type)){\n",
    "    message(ct)\n",
    "    pseudo_list<-lapply(to_merge[main_cell_type==ct]$file, function(f)fread(f))\n",
    "    \n",
    "    #lacking samples column\n",
    "    samples<-Reduce(union,lapply(pseudo_list,colnames))\n",
    "    pseudo_list<-lapply(pseudo_list,function(x){\n",
    "      samples_lacking<-setdiff(samples,colnames(x))\n",
    "      x[,(samples_lacking):=0]\n",
    "    })\n",
    "    \n",
    "    #transform as matrix\n",
    "    pseudo_list<-lapply(pseudo_list, function(x)as.matrix(data.frame(x,row.names = 'gene_id')))\n",
    "    \n",
    "    #aggregate count by sample / featute\n",
    "    features<-rownames(pseudo_list[[1]])\n",
    "    samples<-colnames(pseudo_list[[1]])\n",
    "    \n",
    "    pseudo_merge<-Reduce(`+`,lapply(pseudo_list,function(x)x[features,samples]))\n",
    "    print(head(pseudo_merge[,1:10]))\n",
    "    fwrite(data.table(pseudo_merge,keep.rownames = 'gene_id'),fp(out2,paste0(ct,'.csv.gz')))\n",
    "    \n",
    "    \n",
    "    #4) create mtd for each pseudobulk main cell type \n",
    "\n",
    "    mtd[,tot.cells.donor:=.N,by=.(`Donor.ID`)]\n",
    "    mtd[,n.cells:=.N,by=.(`Donor.ID`,main_cell_type)]\n",
    "    \n",
    "    mtd[,prop.cells:=n.cells/tot.cells.donor,by=.(`Donor.ID`,main_cell_type)]\n",
    "    \n",
    "    mtd[,med.umis.per.cell:=median(Number.of.UMIs,na.rm = T),by=.(`Donor.ID`,main_cell_type)]\n",
    "    mtd[,med.genes.per.cell:=median(Genes.detected,na.rm = T),by=.(`Donor.ID`,main_cell_type)]\n",
    "    \n",
    "    mtd[,avg.pct.mt.per.cell:=mean(`Fraction.mitochondrial.UMIs`),by=c('Donor.ID','main_cell_type')]\n",
    "    \n",
    "    mtsc<-unique(mtd,by=c('Donor.ID','main_cell_type'))\n",
    "    \n",
    "    #flag donors with not enough cells\n",
    "    mtd[,pass.threshold.n.cells:=n.cells>50,by=]\n",
    "    mtd[,outlier.n.cells:=!pass.threshold.n.cells,by=c('Donor.ID','main_cell_type')]\n",
    "    \n",
    "    mtscf<-RemoveUselessColumns(mtsc,key_cols=c('Donor.ID','main_cell_type'),pattern_to_exclude = 'ATAC|Multiome|Doublet|Number.of|Genes.')\n",
    "    \n",
    "    \n",
    "    fwrite(mtscf,fp(out2,'all_final_RNAseq_nuclei_main_cell_type_level_metadata.csv.gz'))\n",
    "    \n",
    "  }"
   ]
  },
  {
   "cell_type": "code",
   "execution_count": null,
   "id": "9d453399-04de-44ad-acb9-38f1a74f99b8",
   "metadata": {
    "kernel": "R"
   },
   "outputs": [],
   "source": []
  },
  {
   "cell_type": "markdown",
   "id": "980dafbb-8545-40fc-ac03-db0b346ad7f8",
   "metadata": {
    "kernel": "Markdown",
    "tags": []
   },
   "source": [
    "We saved everything at the same place in `outputs/01-SEAAD_data/[BrainRegion]/pseudobulk_main_cell_type`\n",
    "\n",
    "## Next Step\n",
    "Now that we have the pseudobulk data, we can perform differential exxpression analyis. see [this notebook](Pseudobulk_DESeq2_analysis_of_SEAAD_data.ipynb)"
   ]
  },
  {
   "cell_type": "code",
   "execution_count": null,
   "id": "9eb364cd-fc9f-498e-9a3b-aa30e1e28d2a",
   "metadata": {
    "kernel": "R"
   },
   "outputs": [],
   "source": []
  }
 ],
 "metadata": {
  "kernelspec": {
   "display_name": "Python 3 (ipykernel)",
   "language": "python",
   "name": "python3"
  },
  "language_info": {
   "codemirror_mode": {
    "name": "ipython",
    "version": 3
   },
   "file_extension": ".py",
   "mimetype": "text/x-python",
   "name": "python",
   "nbconvert_exporter": "python",
   "pygments_lexer": "ipython3",
   "version": "3.10.12"
  },
  "sos": {
   "kernels": [
    [
     "SoS",
     "sos",
     "",
     ""
    ]
   ],
   "version": "0.24.0"
  }
 },
 "nbformat": 4,
 "nbformat_minor": 5
}
